{
 "cells": [
  {
   "cell_type": "code",
   "execution_count": 1,
   "metadata": {},
   "outputs": [],
   "source": [
    "import numpy as np\n",
    "import pandas as pd\n",
    "import matplotlib.pyplot as plt"
   ]
  },
  {
   "cell_type": "code",
   "execution_count": 2,
   "metadata": {},
   "outputs": [],
   "source": [
    "%matplotlib inline"
   ]
  },
  {
   "cell_type": "code",
   "execution_count": 3,
   "metadata": {},
   "outputs": [],
   "source": [
    "recent_grads = pd.read_csv(\"/Volumes/GoogleDrive/My Drive/My Backup/_Current/Development/Python/data quest/data/recent-grads.csv\")"
   ]
  },
  {
   "cell_type": "code",
   "execution_count": 4,
   "metadata": {},
   "outputs": [
    {
     "data": {
      "text/html": [
       "<div>\n",
       "<style scoped>\n",
       "    .dataframe tbody tr th:only-of-type {\n",
       "        vertical-align: middle;\n",
       "    }\n",
       "\n",
       "    .dataframe tbody tr th {\n",
       "        vertical-align: top;\n",
       "    }\n",
       "\n",
       "    .dataframe thead th {\n",
       "        text-align: right;\n",
       "    }\n",
       "</style>\n",
       "<table border=\"1\" class=\"dataframe\">\n",
       "  <thead>\n",
       "    <tr style=\"text-align: right;\">\n",
       "      <th></th>\n",
       "      <th>Rank</th>\n",
       "      <th>Major_code</th>\n",
       "      <th>Total</th>\n",
       "      <th>Men</th>\n",
       "      <th>Women</th>\n",
       "      <th>ShareWomen</th>\n",
       "      <th>Sample_size</th>\n",
       "      <th>Employed</th>\n",
       "      <th>Full_time</th>\n",
       "      <th>Part_time</th>\n",
       "      <th>Full_time_year_round</th>\n",
       "      <th>Unemployed</th>\n",
       "      <th>Unemployment_rate</th>\n",
       "      <th>Median</th>\n",
       "      <th>P25th</th>\n",
       "      <th>P75th</th>\n",
       "      <th>College_jobs</th>\n",
       "      <th>Non_college_jobs</th>\n",
       "      <th>Low_wage_jobs</th>\n",
       "    </tr>\n",
       "  </thead>\n",
       "  <tbody>\n",
       "    <tr>\n",
       "      <th>count</th>\n",
       "      <td>173.000000</td>\n",
       "      <td>173.000000</td>\n",
       "      <td>172.000000</td>\n",
       "      <td>172.000000</td>\n",
       "      <td>172.000000</td>\n",
       "      <td>172.000000</td>\n",
       "      <td>173.000000</td>\n",
       "      <td>173.000000</td>\n",
       "      <td>173.000000</td>\n",
       "      <td>173.000000</td>\n",
       "      <td>173.000000</td>\n",
       "      <td>173.000000</td>\n",
       "      <td>173.000000</td>\n",
       "      <td>173.000000</td>\n",
       "      <td>173.000000</td>\n",
       "      <td>173.000000</td>\n",
       "      <td>173.000000</td>\n",
       "      <td>173.000000</td>\n",
       "      <td>173.000000</td>\n",
       "    </tr>\n",
       "    <tr>\n",
       "      <th>mean</th>\n",
       "      <td>87.000000</td>\n",
       "      <td>3879.815029</td>\n",
       "      <td>39370.081395</td>\n",
       "      <td>16723.406977</td>\n",
       "      <td>22646.674419</td>\n",
       "      <td>0.522223</td>\n",
       "      <td>356.080925</td>\n",
       "      <td>31192.763006</td>\n",
       "      <td>26029.306358</td>\n",
       "      <td>8832.398844</td>\n",
       "      <td>19694.427746</td>\n",
       "      <td>2416.329480</td>\n",
       "      <td>0.068191</td>\n",
       "      <td>40151.445087</td>\n",
       "      <td>29501.445087</td>\n",
       "      <td>51494.219653</td>\n",
       "      <td>12322.635838</td>\n",
       "      <td>13284.497110</td>\n",
       "      <td>3859.017341</td>\n",
       "    </tr>\n",
       "    <tr>\n",
       "      <th>std</th>\n",
       "      <td>50.084928</td>\n",
       "      <td>1687.753140</td>\n",
       "      <td>63483.491009</td>\n",
       "      <td>28122.433474</td>\n",
       "      <td>41057.330740</td>\n",
       "      <td>0.231205</td>\n",
       "      <td>618.361022</td>\n",
       "      <td>50675.002241</td>\n",
       "      <td>42869.655092</td>\n",
       "      <td>14648.179473</td>\n",
       "      <td>33160.941514</td>\n",
       "      <td>4112.803148</td>\n",
       "      <td>0.030331</td>\n",
       "      <td>11470.181802</td>\n",
       "      <td>9166.005235</td>\n",
       "      <td>14906.279740</td>\n",
       "      <td>21299.868863</td>\n",
       "      <td>23789.655363</td>\n",
       "      <td>6944.998579</td>\n",
       "    </tr>\n",
       "    <tr>\n",
       "      <th>min</th>\n",
       "      <td>1.000000</td>\n",
       "      <td>1100.000000</td>\n",
       "      <td>124.000000</td>\n",
       "      <td>119.000000</td>\n",
       "      <td>0.000000</td>\n",
       "      <td>0.000000</td>\n",
       "      <td>2.000000</td>\n",
       "      <td>0.000000</td>\n",
       "      <td>111.000000</td>\n",
       "      <td>0.000000</td>\n",
       "      <td>111.000000</td>\n",
       "      <td>0.000000</td>\n",
       "      <td>0.000000</td>\n",
       "      <td>22000.000000</td>\n",
       "      <td>18500.000000</td>\n",
       "      <td>22000.000000</td>\n",
       "      <td>0.000000</td>\n",
       "      <td>0.000000</td>\n",
       "      <td>0.000000</td>\n",
       "    </tr>\n",
       "    <tr>\n",
       "      <th>25%</th>\n",
       "      <td>44.000000</td>\n",
       "      <td>2403.000000</td>\n",
       "      <td>4549.750000</td>\n",
       "      <td>2177.500000</td>\n",
       "      <td>1778.250000</td>\n",
       "      <td>0.336026</td>\n",
       "      <td>39.000000</td>\n",
       "      <td>3608.000000</td>\n",
       "      <td>3154.000000</td>\n",
       "      <td>1030.000000</td>\n",
       "      <td>2453.000000</td>\n",
       "      <td>304.000000</td>\n",
       "      <td>0.050306</td>\n",
       "      <td>33000.000000</td>\n",
       "      <td>24000.000000</td>\n",
       "      <td>42000.000000</td>\n",
       "      <td>1675.000000</td>\n",
       "      <td>1591.000000</td>\n",
       "      <td>340.000000</td>\n",
       "    </tr>\n",
       "    <tr>\n",
       "      <th>50%</th>\n",
       "      <td>87.000000</td>\n",
       "      <td>3608.000000</td>\n",
       "      <td>15104.000000</td>\n",
       "      <td>5434.000000</td>\n",
       "      <td>8386.500000</td>\n",
       "      <td>0.534024</td>\n",
       "      <td>130.000000</td>\n",
       "      <td>11797.000000</td>\n",
       "      <td>10048.000000</td>\n",
       "      <td>3299.000000</td>\n",
       "      <td>7413.000000</td>\n",
       "      <td>893.000000</td>\n",
       "      <td>0.067961</td>\n",
       "      <td>36000.000000</td>\n",
       "      <td>27000.000000</td>\n",
       "      <td>47000.000000</td>\n",
       "      <td>4390.000000</td>\n",
       "      <td>4595.000000</td>\n",
       "      <td>1231.000000</td>\n",
       "    </tr>\n",
       "    <tr>\n",
       "      <th>75%</th>\n",
       "      <td>130.000000</td>\n",
       "      <td>5503.000000</td>\n",
       "      <td>38909.750000</td>\n",
       "      <td>14631.000000</td>\n",
       "      <td>22553.750000</td>\n",
       "      <td>0.703299</td>\n",
       "      <td>338.000000</td>\n",
       "      <td>31433.000000</td>\n",
       "      <td>25147.000000</td>\n",
       "      <td>9948.000000</td>\n",
       "      <td>16891.000000</td>\n",
       "      <td>2393.000000</td>\n",
       "      <td>0.087557</td>\n",
       "      <td>45000.000000</td>\n",
       "      <td>33000.000000</td>\n",
       "      <td>60000.000000</td>\n",
       "      <td>14444.000000</td>\n",
       "      <td>11783.000000</td>\n",
       "      <td>3466.000000</td>\n",
       "    </tr>\n",
       "    <tr>\n",
       "      <th>max</th>\n",
       "      <td>173.000000</td>\n",
       "      <td>6403.000000</td>\n",
       "      <td>393735.000000</td>\n",
       "      <td>173809.000000</td>\n",
       "      <td>307087.000000</td>\n",
       "      <td>0.968954</td>\n",
       "      <td>4212.000000</td>\n",
       "      <td>307933.000000</td>\n",
       "      <td>251540.000000</td>\n",
       "      <td>115172.000000</td>\n",
       "      <td>199897.000000</td>\n",
       "      <td>28169.000000</td>\n",
       "      <td>0.177226</td>\n",
       "      <td>110000.000000</td>\n",
       "      <td>95000.000000</td>\n",
       "      <td>125000.000000</td>\n",
       "      <td>151643.000000</td>\n",
       "      <td>148395.000000</td>\n",
       "      <td>48207.000000</td>\n",
       "    </tr>\n",
       "  </tbody>\n",
       "</table>\n",
       "</div>"
      ],
      "text/plain": [
       "             Rank   Major_code          Total            Men          Women  \\\n",
       "count  173.000000   173.000000     172.000000     172.000000     172.000000   \n",
       "mean    87.000000  3879.815029   39370.081395   16723.406977   22646.674419   \n",
       "std     50.084928  1687.753140   63483.491009   28122.433474   41057.330740   \n",
       "min      1.000000  1100.000000     124.000000     119.000000       0.000000   \n",
       "25%     44.000000  2403.000000    4549.750000    2177.500000    1778.250000   \n",
       "50%     87.000000  3608.000000   15104.000000    5434.000000    8386.500000   \n",
       "75%    130.000000  5503.000000   38909.750000   14631.000000   22553.750000   \n",
       "max    173.000000  6403.000000  393735.000000  173809.000000  307087.000000   \n",
       "\n",
       "       ShareWomen  Sample_size       Employed      Full_time      Part_time  \\\n",
       "count  172.000000   173.000000     173.000000     173.000000     173.000000   \n",
       "mean     0.522223   356.080925   31192.763006   26029.306358    8832.398844   \n",
       "std      0.231205   618.361022   50675.002241   42869.655092   14648.179473   \n",
       "min      0.000000     2.000000       0.000000     111.000000       0.000000   \n",
       "25%      0.336026    39.000000    3608.000000    3154.000000    1030.000000   \n",
       "50%      0.534024   130.000000   11797.000000   10048.000000    3299.000000   \n",
       "75%      0.703299   338.000000   31433.000000   25147.000000    9948.000000   \n",
       "max      0.968954  4212.000000  307933.000000  251540.000000  115172.000000   \n",
       "\n",
       "       Full_time_year_round    Unemployed  Unemployment_rate         Median  \\\n",
       "count            173.000000    173.000000         173.000000     173.000000   \n",
       "mean           19694.427746   2416.329480           0.068191   40151.445087   \n",
       "std            33160.941514   4112.803148           0.030331   11470.181802   \n",
       "min              111.000000      0.000000           0.000000   22000.000000   \n",
       "25%             2453.000000    304.000000           0.050306   33000.000000   \n",
       "50%             7413.000000    893.000000           0.067961   36000.000000   \n",
       "75%            16891.000000   2393.000000           0.087557   45000.000000   \n",
       "max           199897.000000  28169.000000           0.177226  110000.000000   \n",
       "\n",
       "              P25th          P75th   College_jobs  Non_college_jobs  \\\n",
       "count    173.000000     173.000000     173.000000        173.000000   \n",
       "mean   29501.445087   51494.219653   12322.635838      13284.497110   \n",
       "std     9166.005235   14906.279740   21299.868863      23789.655363   \n",
       "min    18500.000000   22000.000000       0.000000          0.000000   \n",
       "25%    24000.000000   42000.000000    1675.000000       1591.000000   \n",
       "50%    27000.000000   47000.000000    4390.000000       4595.000000   \n",
       "75%    33000.000000   60000.000000   14444.000000      11783.000000   \n",
       "max    95000.000000  125000.000000  151643.000000     148395.000000   \n",
       "\n",
       "       Low_wage_jobs  \n",
       "count     173.000000  \n",
       "mean     3859.017341  \n",
       "std      6944.998579  \n",
       "min         0.000000  \n",
       "25%       340.000000  \n",
       "50%      1231.000000  \n",
       "75%      3466.000000  \n",
       "max     48207.000000  "
      ]
     },
     "execution_count": 4,
     "metadata": {},
     "output_type": "execute_result"
    }
   ],
   "source": [
    "recent_grads.describe()"
   ]
  },
  {
   "cell_type": "code",
   "execution_count": 5,
   "metadata": {},
   "outputs": [
    {
     "data": {
      "text/html": [
       "<div>\n",
       "<style scoped>\n",
       "    .dataframe tbody tr th:only-of-type {\n",
       "        vertical-align: middle;\n",
       "    }\n",
       "\n",
       "    .dataframe tbody tr th {\n",
       "        vertical-align: top;\n",
       "    }\n",
       "\n",
       "    .dataframe thead th {\n",
       "        text-align: right;\n",
       "    }\n",
       "</style>\n",
       "<table border=\"1\" class=\"dataframe\">\n",
       "  <thead>\n",
       "    <tr style=\"text-align: right;\">\n",
       "      <th></th>\n",
       "      <th>Rank</th>\n",
       "      <th>Major_code</th>\n",
       "      <th>Major</th>\n",
       "      <th>Total</th>\n",
       "      <th>Men</th>\n",
       "      <th>Women</th>\n",
       "      <th>Major_category</th>\n",
       "      <th>ShareWomen</th>\n",
       "      <th>Sample_size</th>\n",
       "      <th>Employed</th>\n",
       "      <th>...</th>\n",
       "      <th>Part_time</th>\n",
       "      <th>Full_time_year_round</th>\n",
       "      <th>Unemployed</th>\n",
       "      <th>Unemployment_rate</th>\n",
       "      <th>Median</th>\n",
       "      <th>P25th</th>\n",
       "      <th>P75th</th>\n",
       "      <th>College_jobs</th>\n",
       "      <th>Non_college_jobs</th>\n",
       "      <th>Low_wage_jobs</th>\n",
       "    </tr>\n",
       "  </thead>\n",
       "  <tbody>\n",
       "    <tr>\n",
       "      <th>0</th>\n",
       "      <td>1</td>\n",
       "      <td>2419</td>\n",
       "      <td>PETROLEUM ENGINEERING</td>\n",
       "      <td>2339.0</td>\n",
       "      <td>2057.0</td>\n",
       "      <td>282.0</td>\n",
       "      <td>Engineering</td>\n",
       "      <td>0.120564</td>\n",
       "      <td>36</td>\n",
       "      <td>1976</td>\n",
       "      <td>...</td>\n",
       "      <td>270</td>\n",
       "      <td>1207</td>\n",
       "      <td>37</td>\n",
       "      <td>0.018381</td>\n",
       "      <td>110000</td>\n",
       "      <td>95000</td>\n",
       "      <td>125000</td>\n",
       "      <td>1534</td>\n",
       "      <td>364</td>\n",
       "      <td>193</td>\n",
       "    </tr>\n",
       "    <tr>\n",
       "      <th>1</th>\n",
       "      <td>2</td>\n",
       "      <td>2416</td>\n",
       "      <td>MINING AND MINERAL ENGINEERING</td>\n",
       "      <td>756.0</td>\n",
       "      <td>679.0</td>\n",
       "      <td>77.0</td>\n",
       "      <td>Engineering</td>\n",
       "      <td>0.101852</td>\n",
       "      <td>7</td>\n",
       "      <td>640</td>\n",
       "      <td>...</td>\n",
       "      <td>170</td>\n",
       "      <td>388</td>\n",
       "      <td>85</td>\n",
       "      <td>0.117241</td>\n",
       "      <td>75000</td>\n",
       "      <td>55000</td>\n",
       "      <td>90000</td>\n",
       "      <td>350</td>\n",
       "      <td>257</td>\n",
       "      <td>50</td>\n",
       "    </tr>\n",
       "    <tr>\n",
       "      <th>2</th>\n",
       "      <td>3</td>\n",
       "      <td>2415</td>\n",
       "      <td>METALLURGICAL ENGINEERING</td>\n",
       "      <td>856.0</td>\n",
       "      <td>725.0</td>\n",
       "      <td>131.0</td>\n",
       "      <td>Engineering</td>\n",
       "      <td>0.153037</td>\n",
       "      <td>3</td>\n",
       "      <td>648</td>\n",
       "      <td>...</td>\n",
       "      <td>133</td>\n",
       "      <td>340</td>\n",
       "      <td>16</td>\n",
       "      <td>0.024096</td>\n",
       "      <td>73000</td>\n",
       "      <td>50000</td>\n",
       "      <td>105000</td>\n",
       "      <td>456</td>\n",
       "      <td>176</td>\n",
       "      <td>0</td>\n",
       "    </tr>\n",
       "    <tr>\n",
       "      <th>3</th>\n",
       "      <td>4</td>\n",
       "      <td>2417</td>\n",
       "      <td>NAVAL ARCHITECTURE AND MARINE ENGINEERING</td>\n",
       "      <td>1258.0</td>\n",
       "      <td>1123.0</td>\n",
       "      <td>135.0</td>\n",
       "      <td>Engineering</td>\n",
       "      <td>0.107313</td>\n",
       "      <td>16</td>\n",
       "      <td>758</td>\n",
       "      <td>...</td>\n",
       "      <td>150</td>\n",
       "      <td>692</td>\n",
       "      <td>40</td>\n",
       "      <td>0.050125</td>\n",
       "      <td>70000</td>\n",
       "      <td>43000</td>\n",
       "      <td>80000</td>\n",
       "      <td>529</td>\n",
       "      <td>102</td>\n",
       "      <td>0</td>\n",
       "    </tr>\n",
       "    <tr>\n",
       "      <th>4</th>\n",
       "      <td>5</td>\n",
       "      <td>2405</td>\n",
       "      <td>CHEMICAL ENGINEERING</td>\n",
       "      <td>32260.0</td>\n",
       "      <td>21239.0</td>\n",
       "      <td>11021.0</td>\n",
       "      <td>Engineering</td>\n",
       "      <td>0.341631</td>\n",
       "      <td>289</td>\n",
       "      <td>25694</td>\n",
       "      <td>...</td>\n",
       "      <td>5180</td>\n",
       "      <td>16697</td>\n",
       "      <td>1672</td>\n",
       "      <td>0.061098</td>\n",
       "      <td>65000</td>\n",
       "      <td>50000</td>\n",
       "      <td>75000</td>\n",
       "      <td>18314</td>\n",
       "      <td>4440</td>\n",
       "      <td>972</td>\n",
       "    </tr>\n",
       "  </tbody>\n",
       "</table>\n",
       "<p>5 rows × 21 columns</p>\n",
       "</div>"
      ],
      "text/plain": [
       "   Rank  Major_code                                      Major    Total  \\\n",
       "0     1        2419                      PETROLEUM ENGINEERING   2339.0   \n",
       "1     2        2416             MINING AND MINERAL ENGINEERING    756.0   \n",
       "2     3        2415                  METALLURGICAL ENGINEERING    856.0   \n",
       "3     4        2417  NAVAL ARCHITECTURE AND MARINE ENGINEERING   1258.0   \n",
       "4     5        2405                       CHEMICAL ENGINEERING  32260.0   \n",
       "\n",
       "       Men    Women Major_category  ShareWomen  Sample_size  Employed  ...  \\\n",
       "0   2057.0    282.0    Engineering    0.120564           36      1976  ...   \n",
       "1    679.0     77.0    Engineering    0.101852            7       640  ...   \n",
       "2    725.0    131.0    Engineering    0.153037            3       648  ...   \n",
       "3   1123.0    135.0    Engineering    0.107313           16       758  ...   \n",
       "4  21239.0  11021.0    Engineering    0.341631          289     25694  ...   \n",
       "\n",
       "   Part_time  Full_time_year_round  Unemployed  Unemployment_rate  Median  \\\n",
       "0        270                  1207          37           0.018381  110000   \n",
       "1        170                   388          85           0.117241   75000   \n",
       "2        133                   340          16           0.024096   73000   \n",
       "3        150                   692          40           0.050125   70000   \n",
       "4       5180                 16697        1672           0.061098   65000   \n",
       "\n",
       "   P25th   P75th  College_jobs  Non_college_jobs  Low_wage_jobs  \n",
       "0  95000  125000          1534               364            193  \n",
       "1  55000   90000           350               257             50  \n",
       "2  50000  105000           456               176              0  \n",
       "3  43000   80000           529               102              0  \n",
       "4  50000   75000         18314              4440            972  \n",
       "\n",
       "[5 rows x 21 columns]"
      ]
     },
     "execution_count": 5,
     "metadata": {},
     "output_type": "execute_result"
    }
   ],
   "source": [
    "recent_grads.head()"
   ]
  },
  {
   "cell_type": "code",
   "execution_count": 6,
   "metadata": {},
   "outputs": [
    {
     "data": {
      "text/html": [
       "<div>\n",
       "<style scoped>\n",
       "    .dataframe tbody tr th:only-of-type {\n",
       "        vertical-align: middle;\n",
       "    }\n",
       "\n",
       "    .dataframe tbody tr th {\n",
       "        vertical-align: top;\n",
       "    }\n",
       "\n",
       "    .dataframe thead th {\n",
       "        text-align: right;\n",
       "    }\n",
       "</style>\n",
       "<table border=\"1\" class=\"dataframe\">\n",
       "  <thead>\n",
       "    <tr style=\"text-align: right;\">\n",
       "      <th></th>\n",
       "      <th>Rank</th>\n",
       "      <th>Major_code</th>\n",
       "      <th>Major</th>\n",
       "      <th>Total</th>\n",
       "      <th>Men</th>\n",
       "      <th>Women</th>\n",
       "      <th>Major_category</th>\n",
       "      <th>ShareWomen</th>\n",
       "      <th>Sample_size</th>\n",
       "      <th>Employed</th>\n",
       "      <th>...</th>\n",
       "      <th>Part_time</th>\n",
       "      <th>Full_time_year_round</th>\n",
       "      <th>Unemployed</th>\n",
       "      <th>Unemployment_rate</th>\n",
       "      <th>Median</th>\n",
       "      <th>P25th</th>\n",
       "      <th>P75th</th>\n",
       "      <th>College_jobs</th>\n",
       "      <th>Non_college_jobs</th>\n",
       "      <th>Low_wage_jobs</th>\n",
       "    </tr>\n",
       "  </thead>\n",
       "  <tbody>\n",
       "    <tr>\n",
       "      <th>168</th>\n",
       "      <td>169</td>\n",
       "      <td>3609</td>\n",
       "      <td>ZOOLOGY</td>\n",
       "      <td>8409.0</td>\n",
       "      <td>3050.0</td>\n",
       "      <td>5359.0</td>\n",
       "      <td>Biology &amp; Life Science</td>\n",
       "      <td>0.637293</td>\n",
       "      <td>47</td>\n",
       "      <td>6259</td>\n",
       "      <td>...</td>\n",
       "      <td>2190</td>\n",
       "      <td>3602</td>\n",
       "      <td>304</td>\n",
       "      <td>0.046320</td>\n",
       "      <td>26000</td>\n",
       "      <td>20000</td>\n",
       "      <td>39000</td>\n",
       "      <td>2771</td>\n",
       "      <td>2947</td>\n",
       "      <td>743</td>\n",
       "    </tr>\n",
       "    <tr>\n",
       "      <th>169</th>\n",
       "      <td>170</td>\n",
       "      <td>5201</td>\n",
       "      <td>EDUCATIONAL PSYCHOLOGY</td>\n",
       "      <td>2854.0</td>\n",
       "      <td>522.0</td>\n",
       "      <td>2332.0</td>\n",
       "      <td>Psychology &amp; Social Work</td>\n",
       "      <td>0.817099</td>\n",
       "      <td>7</td>\n",
       "      <td>2125</td>\n",
       "      <td>...</td>\n",
       "      <td>572</td>\n",
       "      <td>1211</td>\n",
       "      <td>148</td>\n",
       "      <td>0.065112</td>\n",
       "      <td>25000</td>\n",
       "      <td>24000</td>\n",
       "      <td>34000</td>\n",
       "      <td>1488</td>\n",
       "      <td>615</td>\n",
       "      <td>82</td>\n",
       "    </tr>\n",
       "    <tr>\n",
       "      <th>170</th>\n",
       "      <td>171</td>\n",
       "      <td>5202</td>\n",
       "      <td>CLINICAL PSYCHOLOGY</td>\n",
       "      <td>2838.0</td>\n",
       "      <td>568.0</td>\n",
       "      <td>2270.0</td>\n",
       "      <td>Psychology &amp; Social Work</td>\n",
       "      <td>0.799859</td>\n",
       "      <td>13</td>\n",
       "      <td>2101</td>\n",
       "      <td>...</td>\n",
       "      <td>648</td>\n",
       "      <td>1293</td>\n",
       "      <td>368</td>\n",
       "      <td>0.149048</td>\n",
       "      <td>25000</td>\n",
       "      <td>25000</td>\n",
       "      <td>40000</td>\n",
       "      <td>986</td>\n",
       "      <td>870</td>\n",
       "      <td>622</td>\n",
       "    </tr>\n",
       "    <tr>\n",
       "      <th>171</th>\n",
       "      <td>172</td>\n",
       "      <td>5203</td>\n",
       "      <td>COUNSELING PSYCHOLOGY</td>\n",
       "      <td>4626.0</td>\n",
       "      <td>931.0</td>\n",
       "      <td>3695.0</td>\n",
       "      <td>Psychology &amp; Social Work</td>\n",
       "      <td>0.798746</td>\n",
       "      <td>21</td>\n",
       "      <td>3777</td>\n",
       "      <td>...</td>\n",
       "      <td>965</td>\n",
       "      <td>2738</td>\n",
       "      <td>214</td>\n",
       "      <td>0.053621</td>\n",
       "      <td>23400</td>\n",
       "      <td>19200</td>\n",
       "      <td>26000</td>\n",
       "      <td>2403</td>\n",
       "      <td>1245</td>\n",
       "      <td>308</td>\n",
       "    </tr>\n",
       "    <tr>\n",
       "      <th>172</th>\n",
       "      <td>173</td>\n",
       "      <td>3501</td>\n",
       "      <td>LIBRARY SCIENCE</td>\n",
       "      <td>1098.0</td>\n",
       "      <td>134.0</td>\n",
       "      <td>964.0</td>\n",
       "      <td>Education</td>\n",
       "      <td>0.877960</td>\n",
       "      <td>2</td>\n",
       "      <td>742</td>\n",
       "      <td>...</td>\n",
       "      <td>237</td>\n",
       "      <td>410</td>\n",
       "      <td>87</td>\n",
       "      <td>0.104946</td>\n",
       "      <td>22000</td>\n",
       "      <td>20000</td>\n",
       "      <td>22000</td>\n",
       "      <td>288</td>\n",
       "      <td>338</td>\n",
       "      <td>192</td>\n",
       "    </tr>\n",
       "  </tbody>\n",
       "</table>\n",
       "<p>5 rows × 21 columns</p>\n",
       "</div>"
      ],
      "text/plain": [
       "     Rank  Major_code                   Major   Total     Men   Women  \\\n",
       "168   169        3609                 ZOOLOGY  8409.0  3050.0  5359.0   \n",
       "169   170        5201  EDUCATIONAL PSYCHOLOGY  2854.0   522.0  2332.0   \n",
       "170   171        5202     CLINICAL PSYCHOLOGY  2838.0   568.0  2270.0   \n",
       "171   172        5203   COUNSELING PSYCHOLOGY  4626.0   931.0  3695.0   \n",
       "172   173        3501         LIBRARY SCIENCE  1098.0   134.0   964.0   \n",
       "\n",
       "               Major_category  ShareWomen  Sample_size  Employed  ...  \\\n",
       "168    Biology & Life Science    0.637293           47      6259  ...   \n",
       "169  Psychology & Social Work    0.817099            7      2125  ...   \n",
       "170  Psychology & Social Work    0.799859           13      2101  ...   \n",
       "171  Psychology & Social Work    0.798746           21      3777  ...   \n",
       "172                 Education    0.877960            2       742  ...   \n",
       "\n",
       "     Part_time  Full_time_year_round  Unemployed  Unemployment_rate  Median  \\\n",
       "168       2190                  3602         304           0.046320   26000   \n",
       "169        572                  1211         148           0.065112   25000   \n",
       "170        648                  1293         368           0.149048   25000   \n",
       "171        965                  2738         214           0.053621   23400   \n",
       "172        237                   410          87           0.104946   22000   \n",
       "\n",
       "     P25th  P75th  College_jobs  Non_college_jobs  Low_wage_jobs  \n",
       "168  20000  39000          2771              2947            743  \n",
       "169  24000  34000          1488               615             82  \n",
       "170  25000  40000           986               870            622  \n",
       "171  19200  26000          2403              1245            308  \n",
       "172  20000  22000           288               338            192  \n",
       "\n",
       "[5 rows x 21 columns]"
      ]
     },
     "execution_count": 6,
     "metadata": {},
     "output_type": "execute_result"
    }
   ],
   "source": [
    "recent_grads.tail()"
   ]
  },
  {
   "cell_type": "code",
   "execution_count": 7,
   "metadata": {},
   "outputs": [
    {
     "name": "stdout",
     "output_type": "stream",
     "text": [
      "173 172\n"
     ]
    }
   ],
   "source": [
    "raw_data_count = len(recent_grads)\n",
    "recent_grads = recent_grads.dropna(axis = 0)\n",
    "cleaned_data_count = len(recent_grads)\n",
    "\n",
    "print(raw_data_count, cleaned_data_count)"
   ]
  },
  {
   "cell_type": "code",
   "execution_count": 9,
   "metadata": {},
   "outputs": [
    {
     "data": {
      "text/plain": [
       "Index(['Rank', 'Major_code', 'Major', 'Total', 'Men', 'Women',\n",
       "       'Major_category', 'ShareWomen', 'Sample_size', 'Employed', 'Full_time',\n",
       "       'Part_time', 'Full_time_year_round', 'Unemployed', 'Unemployment_rate',\n",
       "       'Median', 'P25th', 'P75th', 'College_jobs', 'Non_college_jobs',\n",
       "       'Low_wage_jobs'],\n",
       "      dtype='object')"
      ]
     },
     "execution_count": 9,
     "metadata": {},
     "output_type": "execute_result"
    }
   ],
   "source": [
    "recent_grads.columns"
   ]
  },
  {
   "cell_type": "code",
   "execution_count": 11,
   "metadata": {},
   "outputs": [
    {
     "data": {
      "text/plain": [
       "Text(0.5, 1.0, 'Sample_size vs. Median')"
      ]
     },
     "execution_count": 11,
     "metadata": {},
     "output_type": "execute_result"
    },
    {
     "data": {
      "image/png": "[encoded data removed]",
      "text/plain": [
       "<Figure size 432x288 with 1 Axes>"
      ]
     },
     "metadata": {
      "needs_background": "light"
     },
     "output_type": "display_data"
    }
   ],
   "source": [
    "ax = recent_grads.plot(x='Sample_size', y='Median', kind='scatter')\n",
    "ax.set_title('Sample_size vs. Median')"
   ]
  },
  {
   "cell_type": "code",
   "execution_count": 12,
   "metadata": {},
   "outputs": [
    {
     "data": {
      "text/plain": [
       "Text(0.5, 1.0, 'Sample_size vs. Unemployment rate')"
      ]
     },
     "execution_count": 12,
     "metadata": {},
     "output_type": "execute_result"
    },
    {
     "data": {
      "image/png": "[encoded data removed]",
      "text/plain": [
       "<Figure size 432x288 with 1 Axes>"
      ]
     },
     "metadata": {
      "needs_background": "light"
     },
     "output_type": "display_data"
    }
   ],
   "source": [
    "ax = recent_grads.plot(x='Sample_size', y='Unemployment_rate', kind='scatter')\n",
    "ax.set_title('Sample_size vs. Unemployment rate')"
   ]
  },
  {
   "cell_type": "code",
   "execution_count": 13,
   "metadata": {},
   "outputs": [
    {
     "data": {
      "text/plain": [
       "Text(0.5, 1.0, 'Full_time vs. Median')"
      ]
     },
     "execution_count": 13,
     "metadata": {},
     "output_type": "execute_result"
    },
    {
     "data": {
      "image/png": "[encoded data removed]",
      "text/plain": [
       "<Figure size 432x288 with 1 Axes>"
      ]
     },
     "metadata": {
      "needs_background": "light"
     },
     "output_type": "display_data"
    }
   ],
   "source": [
    "ax = recent_grads.plot(x='Full_time', y='Median', kind='scatter')\n",
    "ax.set_title('Full_time vs. Median')"
   ]
  },
  {
   "cell_type": "code",
   "execution_count": 15,
   "metadata": {},
   "outputs": [
    {
     "data": {
      "text/plain": [
       "Text(0.5, 1.0, 'Share Woman vs. Unemployment rate')"
      ]
     },
     "execution_count": 15,
     "metadata": {},
     "output_type": "execute_result"
    },
    {
     "data": {
      "image/png": "[encoded data removed]",
      "text/plain": [
       "<Figure size 432x288 with 1 Axes>"
      ]
     },
     "metadata": {
      "needs_background": "light"
     },
     "output_type": "display_data"
    }
   ],
   "source": [
    "ax = recent_grads.plot(x='ShareWomen', y='Unemployment_rate', kind='scatter')\n",
    "ax.set_title('Share Woman vs. Unemployment rate')"
   ]
  },
  {
   "cell_type": "code",
   "execution_count": 16,
   "metadata": {},
   "outputs": [
    {
     "data": {
      "text/plain": [
       "Text(0.5, 1.0, 'Men vs. Median')"
      ]
     },
     "execution_count": 16,
     "metadata": {},
     "output_type": "execute_result"
    },
    {
     "data": {
      "image/png": "[encoded data removed]",
      "text/plain": [
       "<Figure size 432x288 with 1 Axes>"
      ]
     },
     "metadata": {
      "needs_background": "light"
     },
     "output_type": "display_data"
    }
   ],
   "source": [
    "ax = recent_grads.plot(x='Men', y='Median', kind='scatter')\n",
    "ax.set_title('Men vs. Median')"
   ]
  },
  {
   "cell_type": "code",
   "execution_count": 17,
   "metadata": {},
   "outputs": [
    {
     "data": {
      "text/plain": [
       "Text(0.5, 1.0, 'Women vs. Median')"
      ]
     },
     "execution_count": 17,
     "metadata": {},
     "output_type": "execute_result"
    },
    {
     "data": {
      "image/png": "[encoded data removed]",
      "text/plain": [
       "<Figure size 432x288 with 1 Axes>"
      ]
     },
     "metadata": {
      "needs_background": "light"
     },
     "output_type": "display_data"
    }
   ],
   "source": [
    "ax = recent_grads.plot(x='Women', y='Median', kind='scatter')\n",
    "ax.set_title('Women vs. Median')"
   ]
  },
  {
   "cell_type": "code",
   "execution_count": 18,
   "metadata": {},
   "outputs": [
    {
     "data": {
      "image/png": "[encoded data removed]",
      "text/plain": [
       "<Figure size 432x288 with 1 Axes>"
      ]
     },
     "metadata": {
      "needs_background": "light"
     },
     "output_type": "display_data"
    }
   ],
   "source": [
    "ax = recent_grads[\"Sample_size\"].hist(bins = 25, range = (0, 5000))"
   ]
  },
  {
   "cell_type": "code",
   "execution_count": 28,
   "metadata": {},
   "outputs": [
    {
     "data": {
      "text/plain": [
       "22000"
      ]
     },
     "execution_count": 28,
     "metadata": {},
     "output_type": "execute_result"
    }
   ],
   "source": [
    "recent_grads[\"Median\"].min()"
   ]
  },
  {
   "cell_type": "code",
   "execution_count": 25,
   "metadata": {},
   "outputs": [
    {
     "data": {
      "image/png": "[encoded data removed]",
      "text/plain": [
       "<Figure size 432x288 with 1 Axes>"
      ]
     },
     "metadata": {
      "needs_background": "light"
     },
     "output_type": "display_data"
    }
   ],
   "source": [
    "ax = recent_grads[\"Median\"].hist(bins = 20, range = (20000, 120000))"
   ]
  },
  {
   "cell_type": "code",
   "execution_count": 29,
   "metadata": {},
   "outputs": [
    {
     "data": {
      "image/png": "[encoded data removed]",
      "text/plain": [
       "<Figure size 432x288 with 1 Axes>"
      ]
     },
     "metadata": {
      "needs_background": "light"
     },
     "output_type": "display_data"
    }
   ],
   "source": [
    "ax = recent_grads[\"Employed\"].hist(bins = 20, range = (20000, 120000))"
   ]
  },
  {
   "cell_type": "code",
   "execution_count": 34,
   "metadata": {},
   "outputs": [
    {
     "name": "stdout",
     "output_type": "stream",
     "text": [
      "111 251540\n",
      "0     1849\n",
      "1      556\n",
      "2      558\n",
      "3     1069\n",
      "4    23170\n",
      "Name: Full_time, dtype: int64\n"
     ]
    }
   ],
   "source": [
    "print(recent_grads[\"Full_time\"].min(), recent_grads[\"Full_time\"].max()) \n",
    "print(recent_grads[\"Full_time\"].head())"
   ]
  },
  {
   "cell_type": "code",
   "execution_count": 35,
   "metadata": {},
   "outputs": [
    {
     "data": {
      "image/png": "[encoded data removed]",
      "text/plain": [
       "<Figure size 432x288 with 1 Axes>"
      ]
     },
     "metadata": {
      "needs_background": "light"
     },
     "output_type": "display_data"
    }
   ],
   "source": [
    "ax = recent_grads[\"Full_time\"].hist(bins = 20, range = (0, 260000))"
   ]
  },
  {
   "cell_type": "code",
   "execution_count": 36,
   "metadata": {},
   "outputs": [
    {
     "name": "stdout",
     "output_type": "stream",
     "text": [
      "0.0 0.968953683\n",
      "0    0.120564\n",
      "1    0.101852\n",
      "2    0.153037\n",
      "3    0.107313\n",
      "4    0.341631\n",
      "Name: ShareWomen, dtype: float64\n"
     ]
    }
   ],
   "source": [
    "print(recent_grads[\"ShareWomen\"].min(), recent_grads[\"ShareWomen\"].max()) \n",
    "print(recent_grads[\"ShareWomen\"].head())"
   ]
  },
  {
   "cell_type": "code",
   "execution_count": 37,
   "metadata": {},
   "outputs": [
    {
     "data": {
      "image/png": "[encoded data removed]",
      "text/plain": [
       "<Figure size 432x288 with 1 Axes>"
      ]
     },
     "metadata": {
      "needs_background": "light"
     },
     "output_type": "display_data"
    }
   ],
   "source": [
    "ax = recent_grads[\"ShareWomen\"].hist(bins = 100, range = (0, 1))"
   ]
  },
  {
   "cell_type": "code",
   "execution_count": 49,
   "metadata": {},
   "outputs": [],
   "source": [
    "def basic_summ_stats_of_Series (EM3):\n",
    "\treturn \"Min:\" + str(EM3.min()) + \" Max:\" + str(EM3.max()) + \" Mean:\" +  str(EM3.mean())"
   ]
  },
  {
   "cell_type": "code",
   "execution_count": 50,
   "metadata": {},
   "outputs": [
    {
     "data": {
      "text/plain": [
       "'Min:0.0 Max:0.177226407 Mean:0.06802373423255816'"
      ]
     },
     "execution_count": 50,
     "metadata": {},
     "output_type": "execute_result"
    }
   ],
   "source": [
    "basic_summ_stats_of_Series(recent_grads[\"Unemployment_rate\"])"
   ]
  },
  {
   "cell_type": "code",
   "execution_count": 40,
   "metadata": {},
   "outputs": [
    {
     "data": {
      "image/png": "[encoded data removed]",
      "text/plain": [
       "<Figure size 432x288 with 1 Axes>"
      ]
     },
     "metadata": {
      "needs_background": "light"
     },
     "output_type": "display_data"
    }
   ],
   "source": [
    "ax = recent_grads[\"Unemployment_rate\"].hist(bins = 60, range = (0, 0.2))"
   ]
  },
  {
   "cell_type": "code",
   "execution_count": 51,
   "metadata": {},
   "outputs": [
    {
     "data": {
      "text/plain": [
       "'Min:0.0 Max:307087.0 Mean:22646.674418604653'"
      ]
     },
     "execution_count": 51,
     "metadata": {},
     "output_type": "execute_result"
    }
   ],
   "source": [
    "basic_summ_stats_of_Series(recent_grads[\"Women\"])"
   ]
  },
  {
   "cell_type": "code",
   "execution_count": 53,
   "metadata": {},
   "outputs": [
    {
     "data": {
      "image/png": "[encoded data removed]",
      "text/plain": [
       "<Figure size 432x288 with 1 Axes>"
      ]
     },
     "metadata": {
      "needs_background": "light"
     },
     "output_type": "display_data"
    }
   ],
   "source": [
    "ax = recent_grads[\"Women\"].hist(bins = 60, range = (0, 308000))"
   ]
  },
  {
   "cell_type": "code",
   "execution_count": 55,
   "metadata": {},
   "outputs": [
    {
     "data": {
      "text/plain": [
       "count       172.000000\n",
       "mean      22646.674419\n",
       "std       41057.330740\n",
       "min           0.000000\n",
       "25%        1778.250000\n",
       "50%        8386.500000\n",
       "75%       22553.750000\n",
       "max      307087.000000\n",
       "Name: Women, dtype: float64"
      ]
     },
     "execution_count": 55,
     "metadata": {},
     "output_type": "execute_result"
    }
   ],
   "source": [
    "recent_grads[\"Women\"].describe()"
   ]
  },
  {
   "cell_type": "code",
   "execution_count": 61,
   "metadata": {},
   "outputs": [],
   "source": [
    "from pandas.plotting import scatter_matrix"
   ]
  },
  {
   "cell_type": "code",
   "execution_count": 62,
   "metadata": {},
   "outputs": [
    {
     "data": {
      "text/plain": [
       "array([[<matplotlib.axes._subplots.AxesSubplot object at 0x134988eb8>,\n",
       "        <matplotlib.axes._subplots.AxesSubplot object at 0x1348cbef0>],\n",
       "       [<matplotlib.axes._subplots.AxesSubplot object at 0x1348b5470>,\n",
       "        <matplotlib.axes._subplots.AxesSubplot object at 0x1348ffcf8>]],\n",
       "      dtype=object)"
      ]
     },
     "execution_count": 62,
     "metadata": {},
     "output_type": "execute_result"
    },
    {
     "data": {
      "image/png": "[encoded data removed]",
      "text/plain": [
       "<Figure size 720x720 with 4 Axes>"
      ]
     },
     "metadata": {
      "needs_background": "light"
     },
     "output_type": "display_data"
    }
   ],
   "source": [
    "scatter_matrix(recent_grads[['Sample_size', 'Median']], figsize=(10,10))"
   ]
  },
  {
   "cell_type": "code",
   "execution_count": 63,
   "metadata": {},
   "outputs": [
    {
     "data": {
      "text/plain": [
       "array([[<matplotlib.axes._subplots.AxesSubplot object at 0x134293908>,\n",
       "        <matplotlib.axes._subplots.AxesSubplot object at 0x134212a20>,\n",
       "        <matplotlib.axes._subplots.AxesSubplot object at 0x1341ffc88>],\n",
       "       [<matplotlib.axes._subplots.AxesSubplot object at 0x1341ebef0>,\n",
       "        <matplotlib.axes._subplots.AxesSubplot object at 0x1341d3198>,\n",
       "        <matplotlib.axes._subplots.AxesSubplot object at 0x1341ba400>],\n",
       "       [<matplotlib.axes._subplots.AxesSubplot object at 0x13425dcc0>,\n",
       "        <matplotlib.axes._subplots.AxesSubplot object at 0x134159898>,\n",
       "        <matplotlib.axes._subplots.AxesSubplot object at 0x1341598d0>]],\n",
       "      dtype=object)"
      ]
     },
     "execution_count": 63,
     "metadata": {},
     "output_type": "execute_result"
    },
    {
     "data": {
      "image/png": "[encoded data removed]",
      "text/plain": [
       "<Figure size 720x720 with 9 Axes>"
      ]
     },
     "metadata": {
      "needs_background": "light"
     },
     "output_type": "display_data"
    }
   ],
   "source": [
    "scatter_matrix(recent_grads[['Sample_size', 'Median', \"Unemployment_rate\"]], figsize=(10,10))"
   ]
  },
  {
   "cell_type": "code",
   "execution_count": 68,
   "metadata": {},
   "outputs": [
    {
     "data": {
      "text/plain": [
       "<matplotlib.axes._subplots.AxesSubplot at 0x134293b70>"
      ]
     },
     "execution_count": 68,
     "metadata": {},
     "output_type": "execute_result"
    },
    {
     "data": {
      "image/png": "[encoded data removed]",
      "text/plain": [
       "<Figure size 432x288 with 1 Axes>"
      ]
     },
     "metadata": {
      "needs_background": "light"
     },
     "output_type": "display_data"
    }
   ],
   "source": [
    "recent_grads[:10].plot.bar(x='Major', y=\"ShareWomen\")"
   ]
  },
  {
   "cell_type": "code",
   "execution_count": 70,
   "metadata": {},
   "outputs": [],
   "source": [
    "recent_grads_sub = recent_grads[:10]"
   ]
  },
  {
   "cell_type": "code",
   "execution_count": 79,
   "metadata": {},
   "outputs": [],
   "source": [
    "recent_grads_sub2 = recent_grads.iloc[-10:,:]"
   ]
  },
  {
   "cell_type": "code",
   "execution_count": 80,
   "metadata": {},
   "outputs": [],
   "source": [
    "frame = [recent_grads_sub, recent_grads_sub2]\n",
    "recent_grads_sub = pd.concat(frame, axis = 0)"
   ]
  },
  {
   "cell_type": "code",
   "execution_count": 81,
   "metadata": {},
   "outputs": [
    {
     "data": {
      "text/html": [
       "<div>\n",
       "<style scoped>\n",
       "    .dataframe tbody tr th:only-of-type {\n",
       "        vertical-align: middle;\n",
       "    }\n",
       "\n",
       "    .dataframe tbody tr th {\n",
       "        vertical-align: top;\n",
       "    }\n",
       "\n",
       "    .dataframe thead th {\n",
       "        text-align: right;\n",
       "    }\n",
       "</style>\n",
       "<table border=\"1\" class=\"dataframe\">\n",
       "  <thead>\n",
       "    <tr style=\"text-align: right;\">\n",
       "      <th></th>\n",
       "      <th>Rank</th>\n",
       "      <th>Major_code</th>\n",
       "      <th>Major</th>\n",
       "      <th>Total</th>\n",
       "      <th>Men</th>\n",
       "      <th>Women</th>\n",
       "      <th>Major_category</th>\n",
       "      <th>ShareWomen</th>\n",
       "      <th>Sample_size</th>\n",
       "      <th>Employed</th>\n",
       "      <th>...</th>\n",
       "      <th>Part_time</th>\n",
       "      <th>Full_time_year_round</th>\n",
       "      <th>Unemployed</th>\n",
       "      <th>Unemployment_rate</th>\n",
       "      <th>Median</th>\n",
       "      <th>P25th</th>\n",
       "      <th>P75th</th>\n",
       "      <th>College_jobs</th>\n",
       "      <th>Non_college_jobs</th>\n",
       "      <th>Low_wage_jobs</th>\n",
       "    </tr>\n",
       "  </thead>\n",
       "  <tbody>\n",
       "    <tr>\n",
       "      <th>0</th>\n",
       "      <td>1</td>\n",
       "      <td>2419</td>\n",
       "      <td>PETROLEUM ENGINEERING</td>\n",
       "      <td>2339.0</td>\n",
       "      <td>2057.0</td>\n",
       "      <td>282.0</td>\n",
       "      <td>Engineering</td>\n",
       "      <td>0.120564</td>\n",
       "      <td>36</td>\n",
       "      <td>1976</td>\n",
       "      <td>...</td>\n",
       "      <td>270</td>\n",
       "      <td>1207</td>\n",
       "      <td>37</td>\n",
       "      <td>0.018381</td>\n",
       "      <td>110000</td>\n",
       "      <td>95000</td>\n",
       "      <td>125000</td>\n",
       "      <td>1534</td>\n",
       "      <td>364</td>\n",
       "      <td>193</td>\n",
       "    </tr>\n",
       "    <tr>\n",
       "      <th>1</th>\n",
       "      <td>2</td>\n",
       "      <td>2416</td>\n",
       "      <td>MINING AND MINERAL ENGINEERING</td>\n",
       "      <td>756.0</td>\n",
       "      <td>679.0</td>\n",
       "      <td>77.0</td>\n",
       "      <td>Engineering</td>\n",
       "      <td>0.101852</td>\n",
       "      <td>7</td>\n",
       "      <td>640</td>\n",
       "      <td>...</td>\n",
       "      <td>170</td>\n",
       "      <td>388</td>\n",
       "      <td>85</td>\n",
       "      <td>0.117241</td>\n",
       "      <td>75000</td>\n",
       "      <td>55000</td>\n",
       "      <td>90000</td>\n",
       "      <td>350</td>\n",
       "      <td>257</td>\n",
       "      <td>50</td>\n",
       "    </tr>\n",
       "    <tr>\n",
       "      <th>2</th>\n",
       "      <td>3</td>\n",
       "      <td>2415</td>\n",
       "      <td>METALLURGICAL ENGINEERING</td>\n",
       "      <td>856.0</td>\n",
       "      <td>725.0</td>\n",
       "      <td>131.0</td>\n",
       "      <td>Engineering</td>\n",
       "      <td>0.153037</td>\n",
       "      <td>3</td>\n",
       "      <td>648</td>\n",
       "      <td>...</td>\n",
       "      <td>133</td>\n",
       "      <td>340</td>\n",
       "      <td>16</td>\n",
       "      <td>0.024096</td>\n",
       "      <td>73000</td>\n",
       "      <td>50000</td>\n",
       "      <td>105000</td>\n",
       "      <td>456</td>\n",
       "      <td>176</td>\n",
       "      <td>0</td>\n",
       "    </tr>\n",
       "    <tr>\n",
       "      <th>3</th>\n",
       "      <td>4</td>\n",
       "      <td>2417</td>\n",
       "      <td>NAVAL ARCHITECTURE AND MARINE ENGINEERING</td>\n",
       "      <td>1258.0</td>\n",
       "      <td>1123.0</td>\n",
       "      <td>135.0</td>\n",
       "      <td>Engineering</td>\n",
       "      <td>0.107313</td>\n",
       "      <td>16</td>\n",
       "      <td>758</td>\n",
       "      <td>...</td>\n",
       "      <td>150</td>\n",
       "      <td>692</td>\n",
       "      <td>40</td>\n",
       "      <td>0.050125</td>\n",
       "      <td>70000</td>\n",
       "      <td>43000</td>\n",
       "      <td>80000</td>\n",
       "      <td>529</td>\n",
       "      <td>102</td>\n",
       "      <td>0</td>\n",
       "    </tr>\n",
       "    <tr>\n",
       "      <th>4</th>\n",
       "      <td>5</td>\n",
       "      <td>2405</td>\n",
       "      <td>CHEMICAL ENGINEERING</td>\n",
       "      <td>32260.0</td>\n",
       "      <td>21239.0</td>\n",
       "      <td>11021.0</td>\n",
       "      <td>Engineering</td>\n",
       "      <td>0.341631</td>\n",
       "      <td>289</td>\n",
       "      <td>25694</td>\n",
       "      <td>...</td>\n",
       "      <td>5180</td>\n",
       "      <td>16697</td>\n",
       "      <td>1672</td>\n",
       "      <td>0.061098</td>\n",
       "      <td>65000</td>\n",
       "      <td>50000</td>\n",
       "      <td>75000</td>\n",
       "      <td>18314</td>\n",
       "      <td>4440</td>\n",
       "      <td>972</td>\n",
       "    </tr>\n",
       "    <tr>\n",
       "      <th>5</th>\n",
       "      <td>6</td>\n",
       "      <td>2418</td>\n",
       "      <td>NUCLEAR ENGINEERING</td>\n",
       "      <td>2573.0</td>\n",
       "      <td>2200.0</td>\n",
       "      <td>373.0</td>\n",
       "      <td>Engineering</td>\n",
       "      <td>0.144967</td>\n",
       "      <td>17</td>\n",
       "      <td>1857</td>\n",
       "      <td>...</td>\n",
       "      <td>264</td>\n",
       "      <td>1449</td>\n",
       "      <td>400</td>\n",
       "      <td>0.177226</td>\n",
       "      <td>65000</td>\n",
       "      <td>50000</td>\n",
       "      <td>102000</td>\n",
       "      <td>1142</td>\n",
       "      <td>657</td>\n",
       "      <td>244</td>\n",
       "    </tr>\n",
       "    <tr>\n",
       "      <th>6</th>\n",
       "      <td>7</td>\n",
       "      <td>6202</td>\n",
       "      <td>ACTUARIAL SCIENCE</td>\n",
       "      <td>3777.0</td>\n",
       "      <td>2110.0</td>\n",
       "      <td>1667.0</td>\n",
       "      <td>Business</td>\n",
       "      <td>0.441356</td>\n",
       "      <td>51</td>\n",
       "      <td>2912</td>\n",
       "      <td>...</td>\n",
       "      <td>296</td>\n",
       "      <td>2482</td>\n",
       "      <td>308</td>\n",
       "      <td>0.095652</td>\n",
       "      <td>62000</td>\n",
       "      <td>53000</td>\n",
       "      <td>72000</td>\n",
       "      <td>1768</td>\n",
       "      <td>314</td>\n",
       "      <td>259</td>\n",
       "    </tr>\n",
       "    <tr>\n",
       "      <th>7</th>\n",
       "      <td>8</td>\n",
       "      <td>5001</td>\n",
       "      <td>ASTRONOMY AND ASTROPHYSICS</td>\n",
       "      <td>1792.0</td>\n",
       "      <td>832.0</td>\n",
       "      <td>960.0</td>\n",
       "      <td>Physical Sciences</td>\n",
       "      <td>0.535714</td>\n",
       "      <td>10</td>\n",
       "      <td>1526</td>\n",
       "      <td>...</td>\n",
       "      <td>553</td>\n",
       "      <td>827</td>\n",
       "      <td>33</td>\n",
       "      <td>0.021167</td>\n",
       "      <td>62000</td>\n",
       "      <td>31500</td>\n",
       "      <td>109000</td>\n",
       "      <td>972</td>\n",
       "      <td>500</td>\n",
       "      <td>220</td>\n",
       "    </tr>\n",
       "    <tr>\n",
       "      <th>8</th>\n",
       "      <td>9</td>\n",
       "      <td>2414</td>\n",
       "      <td>MECHANICAL ENGINEERING</td>\n",
       "      <td>91227.0</td>\n",
       "      <td>80320.0</td>\n",
       "      <td>10907.0</td>\n",
       "      <td>Engineering</td>\n",
       "      <td>0.119559</td>\n",
       "      <td>1029</td>\n",
       "      <td>76442</td>\n",
       "      <td>...</td>\n",
       "      <td>13101</td>\n",
       "      <td>54639</td>\n",
       "      <td>4650</td>\n",
       "      <td>0.057342</td>\n",
       "      <td>60000</td>\n",
       "      <td>48000</td>\n",
       "      <td>70000</td>\n",
       "      <td>52844</td>\n",
       "      <td>16384</td>\n",
       "      <td>3253</td>\n",
       "    </tr>\n",
       "    <tr>\n",
       "      <th>9</th>\n",
       "      <td>10</td>\n",
       "      <td>2408</td>\n",
       "      <td>ELECTRICAL ENGINEERING</td>\n",
       "      <td>81527.0</td>\n",
       "      <td>65511.0</td>\n",
       "      <td>16016.0</td>\n",
       "      <td>Engineering</td>\n",
       "      <td>0.196450</td>\n",
       "      <td>631</td>\n",
       "      <td>61928</td>\n",
       "      <td>...</td>\n",
       "      <td>12695</td>\n",
       "      <td>41413</td>\n",
       "      <td>3895</td>\n",
       "      <td>0.059174</td>\n",
       "      <td>60000</td>\n",
       "      <td>45000</td>\n",
       "      <td>72000</td>\n",
       "      <td>45829</td>\n",
       "      <td>10874</td>\n",
       "      <td>3170</td>\n",
       "    </tr>\n",
       "    <tr>\n",
       "      <th>163</th>\n",
       "      <td>164</td>\n",
       "      <td>6102</td>\n",
       "      <td>COMMUNICATION DISORDERS SCIENCES AND SERVICES</td>\n",
       "      <td>38279.0</td>\n",
       "      <td>1225.0</td>\n",
       "      <td>37054.0</td>\n",
       "      <td>Health</td>\n",
       "      <td>0.967998</td>\n",
       "      <td>95</td>\n",
       "      <td>29763</td>\n",
       "      <td>...</td>\n",
       "      <td>13862</td>\n",
       "      <td>14460</td>\n",
       "      <td>1487</td>\n",
       "      <td>0.047584</td>\n",
       "      <td>28000</td>\n",
       "      <td>20000</td>\n",
       "      <td>40000</td>\n",
       "      <td>19957</td>\n",
       "      <td>9404</td>\n",
       "      <td>5125</td>\n",
       "    </tr>\n",
       "    <tr>\n",
       "      <th>164</th>\n",
       "      <td>165</td>\n",
       "      <td>2307</td>\n",
       "      <td>EARLY CHILDHOOD EDUCATION</td>\n",
       "      <td>37589.0</td>\n",
       "      <td>1167.0</td>\n",
       "      <td>36422.0</td>\n",
       "      <td>Education</td>\n",
       "      <td>0.968954</td>\n",
       "      <td>342</td>\n",
       "      <td>32551</td>\n",
       "      <td>...</td>\n",
       "      <td>7001</td>\n",
       "      <td>20748</td>\n",
       "      <td>1360</td>\n",
       "      <td>0.040105</td>\n",
       "      <td>28000</td>\n",
       "      <td>21000</td>\n",
       "      <td>35000</td>\n",
       "      <td>23515</td>\n",
       "      <td>7705</td>\n",
       "      <td>2868</td>\n",
       "    </tr>\n",
       "    <tr>\n",
       "      <th>165</th>\n",
       "      <td>166</td>\n",
       "      <td>2603</td>\n",
       "      <td>OTHER FOREIGN LANGUAGES</td>\n",
       "      <td>11204.0</td>\n",
       "      <td>3472.0</td>\n",
       "      <td>7732.0</td>\n",
       "      <td>Humanities &amp; Liberal Arts</td>\n",
       "      <td>0.690111</td>\n",
       "      <td>56</td>\n",
       "      <td>7052</td>\n",
       "      <td>...</td>\n",
       "      <td>3685</td>\n",
       "      <td>3214</td>\n",
       "      <td>846</td>\n",
       "      <td>0.107116</td>\n",
       "      <td>27500</td>\n",
       "      <td>22900</td>\n",
       "      <td>38000</td>\n",
       "      <td>2326</td>\n",
       "      <td>3703</td>\n",
       "      <td>1115</td>\n",
       "    </tr>\n",
       "    <tr>\n",
       "      <th>166</th>\n",
       "      <td>167</td>\n",
       "      <td>6001</td>\n",
       "      <td>DRAMA AND THEATER ARTS</td>\n",
       "      <td>43249.0</td>\n",
       "      <td>14440.0</td>\n",
       "      <td>28809.0</td>\n",
       "      <td>Arts</td>\n",
       "      <td>0.666119</td>\n",
       "      <td>357</td>\n",
       "      <td>36165</td>\n",
       "      <td>...</td>\n",
       "      <td>15994</td>\n",
       "      <td>16891</td>\n",
       "      <td>3040</td>\n",
       "      <td>0.077541</td>\n",
       "      <td>27000</td>\n",
       "      <td>19200</td>\n",
       "      <td>35000</td>\n",
       "      <td>6994</td>\n",
       "      <td>25313</td>\n",
       "      <td>11068</td>\n",
       "    </tr>\n",
       "    <tr>\n",
       "      <th>167</th>\n",
       "      <td>168</td>\n",
       "      <td>3302</td>\n",
       "      <td>COMPOSITION AND RHETORIC</td>\n",
       "      <td>18953.0</td>\n",
       "      <td>7022.0</td>\n",
       "      <td>11931.0</td>\n",
       "      <td>Humanities &amp; Liberal Arts</td>\n",
       "      <td>0.629505</td>\n",
       "      <td>151</td>\n",
       "      <td>15053</td>\n",
       "      <td>...</td>\n",
       "      <td>6612</td>\n",
       "      <td>7832</td>\n",
       "      <td>1340</td>\n",
       "      <td>0.081742</td>\n",
       "      <td>27000</td>\n",
       "      <td>20000</td>\n",
       "      <td>35000</td>\n",
       "      <td>4855</td>\n",
       "      <td>8100</td>\n",
       "      <td>3466</td>\n",
       "    </tr>\n",
       "    <tr>\n",
       "      <th>168</th>\n",
       "      <td>169</td>\n",
       "      <td>3609</td>\n",
       "      <td>ZOOLOGY</td>\n",
       "      <td>8409.0</td>\n",
       "      <td>3050.0</td>\n",
       "      <td>5359.0</td>\n",
       "      <td>Biology &amp; Life Science</td>\n",
       "      <td>0.637293</td>\n",
       "      <td>47</td>\n",
       "      <td>6259</td>\n",
       "      <td>...</td>\n",
       "      <td>2190</td>\n",
       "      <td>3602</td>\n",
       "      <td>304</td>\n",
       "      <td>0.046320</td>\n",
       "      <td>26000</td>\n",
       "      <td>20000</td>\n",
       "      <td>39000</td>\n",
       "      <td>2771</td>\n",
       "      <td>2947</td>\n",
       "      <td>743</td>\n",
       "    </tr>\n",
       "    <tr>\n",
       "      <th>169</th>\n",
       "      <td>170</td>\n",
       "      <td>5201</td>\n",
       "      <td>EDUCATIONAL PSYCHOLOGY</td>\n",
       "      <td>2854.0</td>\n",
       "      <td>522.0</td>\n",
       "      <td>2332.0</td>\n",
       "      <td>Psychology &amp; Social Work</td>\n",
       "      <td>0.817099</td>\n",
       "      <td>7</td>\n",
       "      <td>2125</td>\n",
       "      <td>...</td>\n",
       "      <td>572</td>\n",
       "      <td>1211</td>\n",
       "      <td>148</td>\n",
       "      <td>0.065112</td>\n",
       "      <td>25000</td>\n",
       "      <td>24000</td>\n",
       "      <td>34000</td>\n",
       "      <td>1488</td>\n",
       "      <td>615</td>\n",
       "      <td>82</td>\n",
       "    </tr>\n",
       "    <tr>\n",
       "      <th>170</th>\n",
       "      <td>171</td>\n",
       "      <td>5202</td>\n",
       "      <td>CLINICAL PSYCHOLOGY</td>\n",
       "      <td>2838.0</td>\n",
       "      <td>568.0</td>\n",
       "      <td>2270.0</td>\n",
       "      <td>Psychology &amp; Social Work</td>\n",
       "      <td>0.799859</td>\n",
       "      <td>13</td>\n",
       "      <td>2101</td>\n",
       "      <td>...</td>\n",
       "      <td>648</td>\n",
       "      <td>1293</td>\n",
       "      <td>368</td>\n",
       "      <td>0.149048</td>\n",
       "      <td>25000</td>\n",
       "      <td>25000</td>\n",
       "      <td>40000</td>\n",
       "      <td>986</td>\n",
       "      <td>870</td>\n",
       "      <td>622</td>\n",
       "    </tr>\n",
       "    <tr>\n",
       "      <th>171</th>\n",
       "      <td>172</td>\n",
       "      <td>5203</td>\n",
       "      <td>COUNSELING PSYCHOLOGY</td>\n",
       "      <td>4626.0</td>\n",
       "      <td>931.0</td>\n",
       "      <td>3695.0</td>\n",
       "      <td>Psychology &amp; Social Work</td>\n",
       "      <td>0.798746</td>\n",
       "      <td>21</td>\n",
       "      <td>3777</td>\n",
       "      <td>...</td>\n",
       "      <td>965</td>\n",
       "      <td>2738</td>\n",
       "      <td>214</td>\n",
       "      <td>0.053621</td>\n",
       "      <td>23400</td>\n",
       "      <td>19200</td>\n",
       "      <td>26000</td>\n",
       "      <td>2403</td>\n",
       "      <td>1245</td>\n",
       "      <td>308</td>\n",
       "    </tr>\n",
       "    <tr>\n",
       "      <th>172</th>\n",
       "      <td>173</td>\n",
       "      <td>3501</td>\n",
       "      <td>LIBRARY SCIENCE</td>\n",
       "      <td>1098.0</td>\n",
       "      <td>134.0</td>\n",
       "      <td>964.0</td>\n",
       "      <td>Education</td>\n",
       "      <td>0.877960</td>\n",
       "      <td>2</td>\n",
       "      <td>742</td>\n",
       "      <td>...</td>\n",
       "      <td>237</td>\n",
       "      <td>410</td>\n",
       "      <td>87</td>\n",
       "      <td>0.104946</td>\n",
       "      <td>22000</td>\n",
       "      <td>20000</td>\n",
       "      <td>22000</td>\n",
       "      <td>288</td>\n",
       "      <td>338</td>\n",
       "      <td>192</td>\n",
       "    </tr>\n",
       "  </tbody>\n",
       "</table>\n",
       "<p>20 rows × 21 columns</p>\n",
       "</div>"
      ],
      "text/plain": [
       "     Rank  Major_code                                          Major    Total  \\\n",
       "0       1        2419                          PETROLEUM ENGINEERING   2339.0   \n",
       "1       2        2416                 MINING AND MINERAL ENGINEERING    756.0   \n",
       "2       3        2415                      METALLURGICAL ENGINEERING    856.0   \n",
       "3       4        2417      NAVAL ARCHITECTURE AND MARINE ENGINEERING   1258.0   \n",
       "4       5        2405                           CHEMICAL ENGINEERING  32260.0   \n",
       "5       6        2418                            NUCLEAR ENGINEERING   2573.0   \n",
       "6       7        6202                              ACTUARIAL SCIENCE   3777.0   \n",
       "7       8        5001                     ASTRONOMY AND ASTROPHYSICS   1792.0   \n",
       "8       9        2414                         MECHANICAL ENGINEERING  91227.0   \n",
       "9      10        2408                         ELECTRICAL ENGINEERING  81527.0   \n",
       "163   164        6102  COMMUNICATION DISORDERS SCIENCES AND SERVICES  38279.0   \n",
       "164   165        2307                      EARLY CHILDHOOD EDUCATION  37589.0   \n",
       "165   166        2603                        OTHER FOREIGN LANGUAGES  11204.0   \n",
       "166   167        6001                         DRAMA AND THEATER ARTS  43249.0   \n",
       "167   168        3302                       COMPOSITION AND RHETORIC  18953.0   \n",
       "168   169        3609                                        ZOOLOGY   8409.0   \n",
       "169   170        5201                         EDUCATIONAL PSYCHOLOGY   2854.0   \n",
       "170   171        5202                            CLINICAL PSYCHOLOGY   2838.0   \n",
       "171   172        5203                          COUNSELING PSYCHOLOGY   4626.0   \n",
       "172   173        3501                                LIBRARY SCIENCE   1098.0   \n",
       "\n",
       "         Men    Women             Major_category  ShareWomen  Sample_size  \\\n",
       "0     2057.0    282.0                Engineering    0.120564           36   \n",
       "1      679.0     77.0                Engineering    0.101852            7   \n",
       "2      725.0    131.0                Engineering    0.153037            3   \n",
       "3     1123.0    135.0                Engineering    0.107313           16   \n",
       "4    21239.0  11021.0                Engineering    0.341631          289   \n",
       "5     2200.0    373.0                Engineering    0.144967           17   \n",
       "6     2110.0   1667.0                   Business    0.441356           51   \n",
       "7      832.0    960.0          Physical Sciences    0.535714           10   \n",
       "8    80320.0  10907.0                Engineering    0.119559         1029   \n",
       "9    65511.0  16016.0                Engineering    0.196450          631   \n",
       "163   1225.0  37054.0                     Health    0.967998           95   \n",
       "164   1167.0  36422.0                  Education    0.968954          342   \n",
       "165   3472.0   7732.0  Humanities & Liberal Arts    0.690111           56   \n",
       "166  14440.0  28809.0                       Arts    0.666119          357   \n",
       "167   7022.0  11931.0  Humanities & Liberal Arts    0.629505          151   \n",
       "168   3050.0   5359.0     Biology & Life Science    0.637293           47   \n",
       "169    522.0   2332.0   Psychology & Social Work    0.817099            7   \n",
       "170    568.0   2270.0   Psychology & Social Work    0.799859           13   \n",
       "171    931.0   3695.0   Psychology & Social Work    0.798746           21   \n",
       "172    134.0    964.0                  Education    0.877960            2   \n",
       "\n",
       "     Employed  ...  Part_time  Full_time_year_round  Unemployed  \\\n",
       "0        1976  ...        270                  1207          37   \n",
       "1         640  ...        170                   388          85   \n",
       "2         648  ...        133                   340          16   \n",
       "3         758  ...        150                   692          40   \n",
       "4       25694  ...       5180                 16697        1672   \n",
       "5        1857  ...        264                  1449         400   \n",
       "6        2912  ...        296                  2482         308   \n",
       "7        1526  ...        553                   827          33   \n",
       "8       76442  ...      13101                 54639        4650   \n",
       "9       61928  ...      12695                 41413        3895   \n",
       "163     29763  ...      13862                 14460        1487   \n",
       "164     32551  ...       7001                 20748        1360   \n",
       "165      7052  ...       3685                  3214         846   \n",
       "166     36165  ...      15994                 16891        3040   \n",
       "167     15053  ...       6612                  7832        1340   \n",
       "168      6259  ...       2190                  3602         304   \n",
       "169      2125  ...        572                  1211         148   \n",
       "170      2101  ...        648                  1293         368   \n",
       "171      3777  ...        965                  2738         214   \n",
       "172       742  ...        237                   410          87   \n",
       "\n",
       "     Unemployment_rate  Median  P25th   P75th  College_jobs  Non_college_jobs  \\\n",
       "0             0.018381  110000  95000  125000          1534               364   \n",
       "1             0.117241   75000  55000   90000           350               257   \n",
       "2             0.024096   73000  50000  105000           456               176   \n",
       "3             0.050125   70000  43000   80000           529               102   \n",
       "4             0.061098   65000  50000   75000         18314              4440   \n",
       "5             0.177226   65000  50000  102000          1142               657   \n",
       "6             0.095652   62000  53000   72000          1768               314   \n",
       "7             0.021167   62000  31500  109000           972               500   \n",
       "8             0.057342   60000  48000   70000         52844             16384   \n",
       "9             0.059174   60000  45000   72000         45829             10874   \n",
       "163           0.047584   28000  20000   40000         19957              9404   \n",
       "164           0.040105   28000  21000   35000         23515              7705   \n",
       "165           0.107116   27500  22900   38000          2326              3703   \n",
       "166           0.077541   27000  19200   35000          6994             25313   \n",
       "167           0.081742   27000  20000   35000          4855              8100   \n",
       "168           0.046320   26000  20000   39000          2771              2947   \n",
       "169           0.065112   25000  24000   34000          1488               615   \n",
       "170           0.149048   25000  25000   40000           986               870   \n",
       "171           0.053621   23400  19200   26000          2403              1245   \n",
       "172           0.104946   22000  20000   22000           288               338   \n",
       "\n",
       "     Low_wage_jobs  \n",
       "0              193  \n",
       "1               50  \n",
       "2                0  \n",
       "3                0  \n",
       "4              972  \n",
       "5              244  \n",
       "6              259  \n",
       "7              220  \n",
       "8             3253  \n",
       "9             3170  \n",
       "163           5125  \n",
       "164           2868  \n",
       "165           1115  \n",
       "166          11068  \n",
       "167           3466  \n",
       "168            743  \n",
       "169             82  \n",
       "170            622  \n",
       "171            308  \n",
       "172            192  \n",
       "\n",
       "[20 rows x 21 columns]"
      ]
     },
     "execution_count": 81,
     "metadata": {},
     "output_type": "execute_result"
    }
   ],
   "source": [
    "recent_grads_sub.head(20)"
   ]
  },
  {
   "cell_type": "code",
   "execution_count": 82,
   "metadata": {},
   "outputs": [
    {
     "data": {
      "text/plain": [
       "<matplotlib.axes._subplots.AxesSubplot at 0x1343529b0>"
      ]
     },
     "execution_count": 82,
     "metadata": {},
     "output_type": "execute_result"
    },
    {
     "data": {
      "image/png": "[encoded data removed]",
      "text/plain": [
       "<Figure size 432x288 with 1 Axes>"
      ]
     },
     "metadata": {
      "needs_background": "light"
     },
     "output_type": "display_data"
    }
   ],
   "source": [
    "recent_grads_sub[:20].plot.bar(x='Major', y=\"ShareWomen\")"
   ]
  },
  {
   "cell_type": "code",
   "execution_count": null,
   "metadata": {},
   "outputs": [],
   "source": []
  }
 ],
 "metadata": {
  "kernelspec": {
   "display_name": "Python 3",
   "language": "python",
   "name": "python3"
  },
  "language_info": {
   "codemirror_mode": {
    "name": "ipython",
    "version": 3
   },
   "file_extension": ".py",
   "mimetype": "text/x-python",
   "name": "python",
   "nbconvert_exporter": "python",
   "pygments_lexer": "ipython3",
   "version": "3.7.3"
  }
 },
 "nbformat": 4,
 "nbformat_minor": 2
}
